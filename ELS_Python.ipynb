{
 "cells": [
  {
   "cell_type": "code",
   "execution_count": 2,
   "metadata": {},
   "outputs": [],
   "source": [
    "from elasticsearch import Elasticsearch\n",
    "es = Elasticsearch()"
   ]
  },
  {
   "cell_type": "code",
   "execution_count": 5,
   "metadata": {},
   "outputs": [],
   "source": [
    "ids = []\n",
    "m1 = {\n",
    "    \"query\":{\n",
    "        \"match\": {\"place\": 5}\n",
    "    }\n",
    "}\n",
    "R1 = es.search(index='test', body=m1)\n",
    "ids.append(R1['hits']['hits'][0]['_id'])\n",
    "\n",
    "m2 = {\n",
    "    \"doc\" : {\"place\": 10}\n",
    "}\n",
    "R2 = es.update(index='test', doc_type='t', id='{}'.format(ids[0]),body=m2)"
   ]
  },
  {
   "cell_type": "code",
   "execution_count": 7,
   "metadata": {},
   "outputs": [
    {
     "data": {
      "text/plain": [
       "'updated'"
      ]
     },
     "execution_count": 7,
     "metadata": {},
     "output_type": "execute_result"
    }
   ],
   "source": [
    "R2['result']"
   ]
  },
  {
   "cell_type": "code",
   "execution_count": null,
   "metadata": {},
   "outputs": [],
   "source": [
    "def reset(ind):\n",
    "    doc = {\n",
    "        \"index\": {\n",
    "        \"blocks\": {\n",
    "        \"read_only_allow_delete\": \"false\"\n",
    "        }\n",
    "        }\n",
    "    }\n",
    "    print(es.index(index=ind+'/_settings', doc_type='employee',body=doc))\n",
    "reset('business')"
   ]
  },
  {
   "cell_type": "code",
   "execution_count": 19,
   "metadata": {},
   "outputs": [
    {
     "data": {
      "text/plain": [
       "{'Asif': {'Designation': 'Team Lead', 'Gender': 'Male', 'Salary': 70000},\n",
       " 'Owais': {'Designation': 'AI Expert', 'Gender': 'Male', 'Salary': 50000},\n",
       " 'Pawan': {'Designation': 'Java Developer', 'Gender': 'Male', 'Salary': 35000},\n",
       " 'Ubaid': {'Designation': 'IOS Developer', 'Gender': 'Male', 'Salary': 45000}}"
      ]
     },
     "execution_count": 19,
     "metadata": {},
     "output_type": "execute_result"
    }
   ],
   "source": [
    "details = {\"Owais\":{\"Designation\":\"AI Expert\",\"Salary\":50000,\"Gender\":\"Male\"},\\\n",
    "           \"Pawan\":{\"Designation\":\"Java Developer\",\"Salary\":35000,\"Gender\":\"Male\"},\\\n",
    "          \"Ubaid\":{\"Designation\":\"IOS Developer\",\"Salary\":45000,\"Gender\":\"Male\"},\\\n",
    "          \"Asif\":{\"Designation\":\"Team Lead\",\"Salary\":70000,\"Gender\":\"Male\"}}\n",
    "details"
   ]
  },
  {
   "cell_type": "code",
   "execution_count": 34,
   "metadata": {},
   "outputs": [
    {
     "name": "stdout",
     "output_type": "stream",
     "text": [
      "Owais\n",
      "Pawan\n",
      "Ubaid\n",
      "Asif\n"
     ]
    }
   ],
   "source": [
    "for each in details.items():\n",
    "    print(each[0])"
   ]
  },
  {
   "cell_type": "code",
   "execution_count": 46,
   "metadata": {},
   "outputs": [],
   "source": [
    "i = 1\n",
    "es.indices.create(index='office', ignore=400)\n",
    "for employee in details.items():\n",
    "    Q = es.index(index='office', doc_type='employee', id=i, body={\"Name\" : \"{}\".format(employee[0]) \n",
    "                                                                    ,\"Designation\": \"{}\".format(employee[1]['Designation']),\n",
    "                                                                    \"Salary\": employee[1]['Salary'],\n",
    "                                                                    \"Gender\": \"{}\".format(employee[1]['Gender'])})\n",
    "    i+=1"
   ]
  },
  {
   "cell_type": "code",
   "execution_count": 47,
   "metadata": {},
   "outputs": [
    {
     "name": "stdout",
     "output_type": "stream",
     "text": [
      "{'_index': 'office', '_type': 'employee', '_id': '4', '_version': 1, 'result': 'created', '_shards': {'total': 2, 'successful': 1, 'failed': 0}, '_seq_no': 1, '_primary_term': 1}\n"
     ]
    }
   ],
   "source": [
    "print(Q)"
   ]
  },
  {
   "cell_type": "code",
   "execution_count": 48,
   "metadata": {
    "collapsed": true
   },
   "outputs": [],
   "source": [
    "ids = [1,2,3,4]\n",
    "Q1 = []\n",
    "for eachId in ids:\n",
    "    Q1.append(es.get(index='office', doc_type='employee', id=eachId))"
   ]
  },
  {
   "cell_type": "code",
   "execution_count": 52,
   "metadata": {},
   "outputs": [
    {
     "name": "stdout",
     "output_type": "stream",
     "text": [
      "1 {'Name': 'Owais', 'Designation': 'AI Expert', 'Salary': 50000, 'Gender': 'Male'}\n",
      "2 {'Name': 'Pawan', 'Designation': 'Java Developer', 'Salary': 35000, 'Gender': 'Male'}\n",
      "3 {'Name': 'Ubaid', 'Designation': 'IOS Developer', 'Salary': 45000, 'Gender': 'Male'}\n",
      "4 {'Name': 'Asif', 'Designation': 'Team Lead', 'Salary': 70000, 'Gender': 'Male'}\n"
     ]
    }
   ],
   "source": [
    "for each in Q1:\n",
    "    print(each['_id'], each['_source'])"
   ]
  },
  {
   "cell_type": "code",
   "execution_count": 54,
   "metadata": {},
   "outputs": [
    {
     "data": {
      "text/plain": [
       "[{'_id': '2',\n",
       "  '_index': 'office',\n",
       "  '_score': 1.0,\n",
       "  '_source': {'Designation': 'Java Developer',\n",
       "   'Gender': 'Male',\n",
       "   'Name': 'Pawan',\n",
       "   'Salary': 35000},\n",
       "  '_type': 'employee'},\n",
       " {'_id': '4',\n",
       "  '_index': 'office',\n",
       "  '_score': 1.0,\n",
       "  '_source': {'Designation': 'Team Lead',\n",
       "   'Gender': 'Male',\n",
       "   'Name': 'Asif',\n",
       "   'Salary': 70000},\n",
       "  '_type': 'employee'},\n",
       " {'_id': '1',\n",
       "  '_index': 'office',\n",
       "  '_score': 1.0,\n",
       "  '_source': {'Designation': 'AI Expert',\n",
       "   'Gender': 'Male',\n",
       "   'Name': 'Owais',\n",
       "   'Salary': 50000},\n",
       "  '_type': 'employee'},\n",
       " {'_id': '3',\n",
       "  '_index': 'office',\n",
       "  '_score': 1.0,\n",
       "  '_source': {'Designation': 'IOS Developer',\n",
       "   'Gender': 'Male',\n",
       "   'Name': 'Ubaid',\n",
       "   'Salary': 45000},\n",
       "  '_type': 'employee'}]"
      ]
     },
     "execution_count": 54,
     "metadata": {},
     "output_type": "execute_result"
    }
   ],
   "source": [
    "Q2 = es.search(index=\"office\", body={\"query\": {\"match_all\": {}}})\n",
    "Q2['hits']['hits']"
   ]
  },
  {
   "cell_type": "code",
   "execution_count": 56,
   "metadata": {},
   "outputs": [
    {
     "data": {
      "text/plain": [
       "[{'_id': '1',\n",
       "  '_index': 'office',\n",
       "  '_score': 0.2876821,\n",
       "  '_source': {'Designation': 'AI Expert',\n",
       "   'Gender': 'Male',\n",
       "   'Name': 'Owais',\n",
       "   'Salary': 50000},\n",
       "  '_type': 'employee'}]"
      ]
     },
     "execution_count": 56,
     "metadata": {},
     "output_type": "execute_result"
    }
   ],
   "source": [
    "Q3 = es.search(index=\"office\", body={\"query\": {\"match\": { \"Name\":\"Owais\" }}})\n",
    "Q3['hits']['hits']"
   ]
  },
  {
   "cell_type": "code",
   "execution_count": 71,
   "metadata": {},
   "outputs": [
    {
     "data": {
      "text/plain": [
       "50000"
      ]
     },
     "execution_count": 71,
     "metadata": {},
     "output_type": "execute_result"
    }
   ],
   "source": [
    "result = els.search(index='office', body={\"query\":{\"match\":{\"Name\":\"{}\".format('Owais')}}})\n",
    "result['hits']['hits'][0]['_source']['Salary']"
   ]
  },
  {
   "cell_type": "code",
   "execution_count": 100,
   "metadata": {},
   "outputs": [
    {
     "data": {
      "text/plain": [
       "{'acknowledged': True, 'index': 'new1', 'shards_acknowledged': True}"
      ]
     },
     "execution_count": 100,
     "metadata": {},
     "output_type": "execute_result"
    }
   ],
   "source": [
    "es.indices.create(index='new1')"
   ]
  },
  {
   "cell_type": "code",
   "execution_count": null,
   "metadata": {},
   "outputs": [],
   "source": []
  },
  {
   "cell_type": "markdown",
   "metadata": {},
   "source": [
    "# Creating DB with Sample Data."
   ]
  },
  {
   "cell_type": "code",
   "execution_count": 57,
   "metadata": {
    "collapsed": true
   },
   "outputs": [],
   "source": [
    "import json\n",
    "from datetime import datetime"
   ]
  },
  {
   "cell_type": "code",
   "execution_count": 58,
   "metadata": {
    "collapsed": true
   },
   "outputs": [],
   "source": [
    "from elasticsearch import Elasticsearch\n",
    "els = Elasticsearch()"
   ]
  },
  {
   "cell_type": "code",
   "execution_count": 59,
   "metadata": {
    "collapsed": true
   },
   "outputs": [],
   "source": [
    "timeframe = 'Data'\n",
    "sql_transaction = []"
   ]
  },
  {
   "cell_type": "code",
   "execution_count": 62,
   "metadata": {},
   "outputs": [
    {
     "name": "stdout",
     "output_type": "stream",
     "text": [
      "{'acknowledged': True, 'shards_acknowledged': True, 'index': 'sampledata'}\n"
     ]
    }
   ],
   "source": [
    "def create_table():    \n",
    "    Q1 = els.indices.create(index='sampledata')\n",
    "    return Q1\n",
    "print(create_table())"
   ]
  },
  {
   "cell_type": "code",
   "execution_count": 63,
   "metadata": {
    "collapsed": true
   },
   "outputs": [],
   "source": [
    "def format_data(data):\n",
    "    data = data.replace('\\n',' newlinechar ').replace('\\r',' newlinechar ').replace('\"',\"'\")\n",
    "    return data"
   ]
  },
  {
   "cell_type": "code",
   "execution_count": 96,
   "metadata": {
    "collapsed": true
   },
   "outputs": [],
   "source": [
    "def find_parent(pid):\n",
    "    try:\n",
    "        #sql = \"SELECT comment FROM parent_reply WHERE comment_id = '{}' LIMIT 1\".format(pid)\n",
    "        result = els.search(index='sampledata', body={\"query\":{\"match\":{\"comment_id\":\"{}\".format(pid)}}})\n",
    "        if result['hits']['hits'] != []:\n",
    "            result = result['hits']['hits'][0]['_source']['comment']\n",
    "            print(\"find_parent Function: \", result)\n",
    "            return result\n",
    "        else: return False\n",
    "    except Exception as e:\n",
    "        print(str(e))\n",
    "        return False"
   ]
  },
  {
   "cell_type": "code",
   "execution_count": 98,
   "metadata": {
    "collapsed": true
   },
   "outputs": [],
   "source": [
    "def find_existing_score(pid):\n",
    "    try:\n",
    "        sql = \"SELECT score FROM parent_reply WHERE parent_id = '{}' LIMIT 1\".format(pid)\n",
    "        result = els.search(index='sampledata',body={\"query\":{\"match\":{\"parent_id\":\"{}\".format(pid)}}})\n",
    "        if result ['hits']['hits'] != []:\n",
    "            result = result['hits']['hits'][0]['_source']['score']\n",
    "            print(\"find_existing_score Function: \", result)\n",
    "            return result\n",
    "        else: return False\n",
    "    except Exception as e:\n",
    "        print(str(e))\n",
    "        return False"
   ]
  },
  {
   "cell_type": "code",
   "execution_count": 99,
   "metadata": {
    "collapsed": true
   },
   "outputs": [],
   "source": [
    "def acceptable(data):\n",
    "    if len(data.split(' ')) > 50 or len(data) < 1:\n",
    "        return False\n",
    "    elif len(data) > 1000:\n",
    "        return False\n",
    "    elif data == '[deleted]':\n",
    "        return False\n",
    "    elif data == '[removed]':\n",
    "        return False\n",
    "    else:\n",
    "        return True"
   ]
  },
  {
   "cell_type": "code",
   "execution_count": null,
   "metadata": {
    "collapsed": true
   },
   "outputs": [],
   "source": [
    "def sql_insert_replace_comment(commentid,parentid,parent,comment,subreddit,time,score):\n",
    "    try:\n",
    "        sql = \"\"\"UPDATE parent_reply SET parent_id = ?, comment_id = ?, parent = ?, comment = ?, subreddit = ?, unix = ?, score = ? WHERE parent_id =?;\"\"\".format(parentid, commentid, parent, comment, subreddit, int(time), score, parentid)\n",
    "        transaction_bldr(sql)\n",
    "    except Exception as e:\n",
    "        print('sql_insert_replace_comment Function',str(e))"
   ]
  },
  {
   "cell_type": "code",
   "execution_count": null,
   "metadata": {
    "collapsed": true
   },
   "outputs": [],
   "source": [
    "row_counter = 0\n",
    "paired_rows = 0\n",
    "with open('Data',encoding='utf8', errors='ignore')as f:\n",
    "    for row in f:\n",
    "        row_counter += 1\n",
    "        row = json.loads(row)\n",
    "        parent_id = row['parent_id']\n",
    "        body = format_data(row['body'])\n",
    "        created_utc = row['created_utc']\n",
    "        score = row['score']\n",
    "        comment_id = row['name']\n",
    "        subreddit = row['subreddit']\n",
    "        parent_data = find_parent(parent_id)\n",
    "        if score >= 2:\n",
    "            existing_comment_score = find_existing_score(parent_id)\n",
    "            if existing_comment_score:\n",
    "                if score > existing_comment_score:\n",
    "                    if acceptable(body):\n",
    "                        sql_insert_replace_comment(comment_id,parent_id,parent_data,body,subreddit,created_utc,score)\n"
   ]
  }
 ],
 "metadata": {
  "kernelspec": {
   "display_name": "Python 3",
   "language": "python",
   "name": "python3"
  },
  "language_info": {
   "codemirror_mode": {
    "name": "ipython",
    "version": 3
   },
   "file_extension": ".py",
   "mimetype": "text/x-python",
   "name": "python",
   "nbconvert_exporter": "python",
   "pygments_lexer": "ipython3",
   "version": "3.6.6"
  }
 },
 "nbformat": 4,
 "nbformat_minor": 2
}
